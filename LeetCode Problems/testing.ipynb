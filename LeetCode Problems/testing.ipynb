{
 "cells": [
  {
   "cell_type": "code",
   "execution_count": 1,
   "metadata": {},
   "outputs": [
    {
     "name": "stdout",
     "output_type": "stream",
     "text": [
      "140723525055400 140723525055400\n"
     ]
    }
   ],
   "source": [
    "a = b = 5\n",
    "print(id(a), id(b))\n",
    "\n"
   ]
  },
  {
   "cell_type": "code",
   "execution_count": 2,
   "metadata": {},
   "outputs": [],
   "source": [
    "class test:\n",
    "    def __init__(self, val = 1) -> None:\n",
    "        self.val = val\n",
    "        self.next = None"
   ]
  },
  {
   "cell_type": "code",
   "execution_count": 3,
   "metadata": {},
   "outputs": [
    {
     "name": "stdout",
     "output_type": "stream",
     "text": [
      "<__main__.test object at 0x0000023A078FD550> <__main__.test object at 0x0000023A078FD550>\n",
      "40 40\n"
     ]
    }
   ],
   "source": [
    "# Understanding object references\n",
    "# One of the weirdest topics I have ever dealt with.\n",
    "\n",
    "x = y = test(10)\n",
    "z = test(40)\n",
    "x.next = z\n",
    "print(x.next, y.next)\n",
    "x = x.next\n",
    "y = y.next\n",
    "\n",
    "print(x.val, y.val)"
   ]
  },
  {
   "cell_type": "code",
   "execution_count": 4,
   "metadata": {},
   "outputs": [],
   "source": [
    "a = 5\n",
    "b = c = a"
   ]
  },
  {
   "cell_type": "code",
   "execution_count": 15,
   "metadata": {},
   "outputs": [
    {
     "data": {
      "text/plain": [
       "[0, 0, 20, 30, 100]"
      ]
     },
     "execution_count": 15,
     "metadata": {},
     "output_type": "execute_result"
    }
   ],
   "source": [
    "# QuickSort\n",
    "\n",
    "def qsort(lst):\n",
    "    \n",
    "    if len(lst) <= 1:\n",
    "        return lst\n",
    "    \n",
    "    return qsort([x for x in lst[1:] if x <= lst[0]]) + lst[0:1] + qsort([x for x in lst[1:] if x > lst[0]])\n"
   ]
  }
 ],
 "metadata": {
  "kernelspec": {
   "display_name": "Python 3",
   "language": "python",
   "name": "python3"
  },
  "language_info": {
   "codemirror_mode": {
    "name": "ipython",
    "version": 3
   },
   "file_extension": ".py",
   "mimetype": "text/x-python",
   "name": "python",
   "nbconvert_exporter": "python",
   "pygments_lexer": "ipython3",
   "version": "3.11.2"
  },
  "orig_nbformat": 4,
  "vscode": {
   "interpreter": {
    "hash": "2311b9e2cd4b6640f4301f110970be27b1242ef0e1a56ec77d89b722580a4c3a"
   }
  }
 },
 "nbformat": 4,
 "nbformat_minor": 2
}
